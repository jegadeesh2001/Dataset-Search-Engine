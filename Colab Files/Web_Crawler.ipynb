{
  "nbformat": 4,
  "nbformat_minor": 0,
  "metadata": {
    "colab": {
      "provenance": []
    },
    "kernelspec": {
      "name": "python3",
      "display_name": "Python 3"
    },
    "language_info": {
      "name": "python"
    }
  },
  "cells": [
    {
      "cell_type": "code",
      "source": [
        "import pandas as pd\n"
      ],
      "metadata": {
        "id": "077xtHKS0ZtM"
      },
      "execution_count": 7,
      "outputs": []
    },
    {
      "cell_type": "markdown",
      "source": [
        "**Scraping Data**"
      ],
      "metadata": {
        "id": "y4EmhEc61TUb"
      }
    },
    {
      "cell_type": "code",
      "source": [
        "import requests\n",
        "from bs4 import BeautifulSoup\n",
        "\n",
        "class DataWorldDatasetScraper:\n",
        "    def __init__(self, base_url, num_pages):\n",
        "        self.base_url = base_url\n",
        "        self.num_pages = num_pages\n",
        "        self.data=pd.read_csv('/content/drive/MyDrive/dataset_meta.csv')[:-1]\n",
        "    def scrape_data_world_datasets(self):\n",
        "        data1=[]\n",
        "        for page_num in range(1, self.num_pages + 1):\n",
        "            url = f'{self.base_url}&page={page_num}'\n",
        "            response = requests.get(url)\n",
        "\n",
        "            if response.status_code == 200:\n",
        "                soup = BeautifulSoup(response.text, 'html.parser')\n",
        "\n",
        "                dataset_list = soup.find_all('div', class_='SearchItemModule--searchItemContainer--LgWgT')\n",
        "\n",
        "                for dataset in dataset_list:\n",
        "                    dataset_name = dataset.find('a', class_='SearchItemModule--title--39Kmr').text.strip()\n",
        "                    dataset_url = 'https://data.world' + dataset.find('a', class_='SearchItemModule--title--39Kmr')['href']\n",
        "                    dataset_description = dataset.find('p', class_='SearchItemModule--description--2G0E_').text.strip()\n",
        "\n",
        "                    data1.append({\n",
        "                        'Name': dataset_name,\n",
        "                        'URL': dataset_url,\n",
        "                        'Description': dataset_description\n",
        "                    })\n",
        "            else:\n",
        "                print(f'Error: Unable to fetch data.world datasets. Status code: {response.status_code}')\n",
        "        return self.data.iloc[:, :-1]\n",
        "\n",
        "if __name__ == '__main__':\n",
        "    base_url = 'https://data.world/search?context=community&entryTypeLabel=dataset&type=resources'\n",
        "    num_pages = 10  # Number of pages to scrape (adjust as needed)\n",
        "\n",
        "    scraper = DataWorldDatasetScraper(base_url, num_pages)\n",
        "    data=scraper.scrape_data_world_datasets()\n",
        "    print(data.head())\n"
      ],
      "metadata": {
        "colab": {
          "base_uri": "https://localhost:8080/"
        },
        "id": "YsoefHzn0OZj",
        "outputId": "c30f1b85-9c83-4a0b-ad3a-bee92309ec0a"
      },
      "execution_count": 15,
      "outputs": [
        {
          "output_type": "stream",
          "name": "stdout",
          "text": [
            "   Unnamed: 0                                                url  \\\n",
            "0           0  https://catoblepas.oerc.ox.ac.uk/biodbcore-000...   \n",
            "1           1  https://www.ccdc.cam.ac.uk/structures/search?s...   \n",
            "2           2  https://dbarchive.biosciencedbc.jp/jp/glycopro...   \n",
            "3           3           http://dx.doi.org/10.17182/hepdata.38162   \n",
            "4           4  https://scicrunch.org/resources/Any/record/nlx...   \n",
            "\n",
            "                                                name  \\\n",
            "0                     FAIRsharing record for: CiteAb   \n",
            "1  CCDC 691170: Experimental Crystal Structure De...   \n",
            "2                              N結合型糖鎖の修飾位置 (Tax9606)   \n",
            "3                                           Table 16   \n",
            "4                                            InSatDb   \n",
            "\n",
            "                                     alternateName  \\\n",
            "0                                           CiteAb   \n",
            "1                                              NaN   \n",
            "2                                              NaN   \n",
            "3                                              NaN   \n",
            "4  SCR_007739, (InSatDb, RRID:SCR_007739), InSatDb   \n",
            "\n",
            "                                         description  \n",
            "0  This FAIRsharing record describes: CiteAb is t...  \n",
            "1  An entry from the Cambridge Structural Databas...  \n",
            "2  IGOT法により糖鎖修飾位置を同定したヒトのタンパク質のリスト。 文献: J Proteom...  \n",
            "3                           PT RELATIVE TO JET AXIS.  \n",
            "4  Database of microsatellite characteristics of ...  \n"
          ]
        }
      ]
    }
  ]
}